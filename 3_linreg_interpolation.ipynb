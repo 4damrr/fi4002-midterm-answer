{
 "cells": [
  {
   "cell_type": "markdown",
   "id": "e02adbaa",
   "metadata": {},
   "source": [
    "# linreg_interpolation\n",
    "+ [Introduction to Linear Regression in Python](https://towardsdatascience.com/c12a072bedf0)\n",
    "+ [Linear Interpolation in Python](https://pythonnumericalmethods.berkeley.edu/notebooks/chapter17.02-Linear-Interpolation.html)\n",
    "+ [Lagrange Polynomial Interpolation in Python](https://pythonnumericalmethods.berkeley.edu/notebooks/chapter17.04-Lagrange-Polynomial-Interpolation.html)"
   ]
  },
  {
   "cell_type": "markdown",
   "id": "444af4a2",
   "metadata": {},
   "source": [
    "## questions"
   ]
  },
  {
   "cell_type": "markdown",
   "id": "f6969bc9",
   "metadata": {},
   "source": [
    "### part a (in-class)\n",
    "1. Write equations of $c_0$ and $c_1$ as implementation of linear regression to  $y = c_0 + c_1 x$.\n",
    "2. Write equation of linear interpolation for pairs of data $\\{ (x_i, y_i) \\ | \\ i = 1, 2, \\dots, n \\}$.\n",
    "3. Write equation of Lagrange polynomial interpolation for pairs of data $\\{ (x_i, y_i) \\ | \\ i = 1, 2, \\dots, n \\}$.\n",
    "4. Explain the difference between linear regression and interpolation for the data."
   ]
  },
  {
   "cell_type": "markdown",
   "id": "135bdb5f",
   "metadata": {},
   "source": [
    "### part b (take-home)\n",
    "1. Write function `linear_regression()` to calculate `c_0` and `c_1` with input parameters are `x` and `y`, where both are `list` with the same length.\n",
    "2. Write functions `linear_interpol()` to calculate linear interpolation with input parameters are `x` and `y`, where both are `list` with the same length.\n",
    "3. Write functions `lagrange_interpol()` to calculate Lagrange polynomial interpolation with input parameters are `x` and `y`, where both are `list` with the same length.\n",
    "4. Plot curves using, directly or indirectly, the functions `linear_regression()`, `linear_interpol()`, `lagrange_interpol()`, and the data `x` and `y`. Set right label to each series and show them in the plot legend."
   ]
  },
  {
   "cell_type": "markdown",
   "id": "3d06e08d",
   "metadata": {},
   "source": [
    "## answers"
   ]
  },
  {
   "cell_type": "markdown",
   "id": "366a4d39",
   "metadata": {},
   "source": [
    "+ Put your answers of part b below this cell.\n",
    "+ Write only one answer in one Code cell.\n",
    "+ There should be **at least four cells (Code cells)**.\n",
    "+ Existence of additional Markdown cells for explanation are optional."
   ]
  },
  {
   "cell_type": "markdown",
   "id": "35f54b42",
   "metadata": {},
   "source": [
    "**Adam Raihan Ramadhani (10219079)**"
   ]
  },
  {
   "cell_type": "markdown",
   "id": "20e5c7cd",
   "metadata": {},
   "source": [
    "# 1"
   ]
  },
  {
   "cell_type": "code",
   "execution_count": 53,
   "id": "23b20f2c",
   "metadata": {},
   "outputs": [
    {
     "data": {
      "text/plain": [
       "(0.0, 1.0)"
      ]
     },
     "execution_count": 53,
     "metadata": {},
     "output_type": "execute_result"
    }
   ],
   "source": [
    "import numpy as np\n",
    "x1=[1,2,3,4,5]\n",
    "y1=[1,2,3,4,5]\n",
    "\n",
    "def sum_product(a,b):\n",
    "    product=0\n",
    "    for i in range(len(x1)):\n",
    "        product=+a[i]*b[i]\n",
    "    return product\n",
    "\n",
    "def linear_regression(x, y):\n",
    "    #panjang data\n",
    "    n = len(x)\n",
    "  \n",
    "    #mean\n",
    "    x_mean = np.mean(x)\n",
    "    y_mean = np.mean(y)\n",
    "  \n",
    "    #cross-deviation x dan y, dan squared deviation x\n",
    "    SS_xy = sum_product(x,y) - n*y_mean*x_mean\n",
    "    SS_xx = sum_product(x,x) - n*x_mean*x_mean\n",
    "  \n",
    "    #koefisien\n",
    "    c_1 = SS_xy / SS_xx\n",
    "    c_0 = y_mean - c_1*x_mean\n",
    "  \n",
    "    return(c_0, c_1)\n",
    "\n",
    "reg = linear_regression(x1,y1)\n",
    "reg"
   ]
  },
  {
   "cell_type": "markdown",
   "id": "d501b1d7",
   "metadata": {},
   "source": [
    "# 2"
   ]
  },
  {
   "cell_type": "code",
   "execution_count": 75,
   "id": "6d05e407",
   "metadata": {},
   "outputs": [
    {
     "name": "stdout",
     "output_type": "stream",
     "text": [
      "23\n"
     ]
    },
    {
     "data": {
      "text/plain": [
       "23.0"
      ]
     },
     "execution_count": 75,
     "metadata": {},
     "output_type": "execute_result"
    }
   ],
   "source": [
    "x2=[1,21]\n",
    "y2=[1,21]\n",
    "#y(x), input-nya merupakan x baru\n",
    "def linear_interpol(x, y, new):\n",
    "    inpol =  y[0]+((new-y[0])*((y[1]-y[0])/(x[1]-x[0])))\n",
    "    x.append(new)\n",
    "    y.append(inpol)\n",
    "    return inpol\n",
    "\n",
    "linear_interpol(x2,y2,int(input()))"
   ]
  },
  {
   "cell_type": "markdown",
   "id": "06e06b04",
   "metadata": {},
   "source": [
    "# 3"
   ]
  },
  {
   "cell_type": "code",
   "execution_count": 36,
   "id": "1cf7e9ef",
   "metadata": {},
   "outputs": [
    {
     "name": "stdout",
     "output_type": "stream",
     "text": [
      "25\n",
      "[2, 4, 6, 8, 10, 25] [1, 2, 3, 4, 5, 12.5]\n"
     ]
    }
   ],
   "source": [
    "x3=[2,4,6,8,10]\n",
    "y3=[1,2,3,4,5]\n",
    "\n",
    "def lagrange_interpol(x,y,new):\n",
    "    y_new=0\n",
    "    for i in range(len(x)):\n",
    "        fi = y[i]\n",
    "        for j in range(len(x)):\n",
    "            if j!=i:\n",
    "                fi=fi*(new-x[j])/(x[i]-x[j])\n",
    "        y_new=y_new+fi\n",
    "    x.append(new)\n",
    "    y.append(y_new)\n",
    "    return y_new\n",
    "lagrange_interpol(x3,y3,int(input()))\n",
    "print(x3, y3)"
   ]
  },
  {
   "cell_type": "markdown",
   "id": "01900b62",
   "metadata": {},
   "source": [
    "# 4"
   ]
  },
  {
   "cell_type": "code",
   "execution_count": 83,
   "id": "6aa281fc",
   "metadata": {},
   "outputs": [
    {
     "data": {
      "text/plain": [
       "Text(0, 0.5, 'y')"
      ]
     },
     "execution_count": 83,
     "metadata": {},
     "output_type": "execute_result"
    },
    {
     "data": {
      "image/png": "[encoded data removed]",
      "text/plain": [
       "<Figure size 640x480 with 1 Axes>"
      ]
     },
     "metadata": {},
     "output_type": "display_data"
    }
   ],
   "source": [
    "import matplotlib.pyplot as plt\n",
    "\n",
    "x = np.linspace(min(x1), max(x1))\n",
    "\n",
    "#regresi\n",
    "y_reg = []\n",
    "for i in x:\n",
    "    y_reg.append(reg[0]+(reg[1]*i))\n",
    "\n",
    "plt.plot(x1,y1,'ro')\n",
    "plt.plot(x, y_reg,'r')\n",
    "plt.plot(x2,y2,'go')\n",
    "plt.plot(x2,y2,'g')\n",
    "plt.plot(x3,y3,'bo')\n",
    "plt.plot(x3,y3,'b')\n",
    "plt.legend(['Data regresi linear','Regresi Linear','Data interploasi linear', 'Interpolasi linear', 'Data interpolasi lagrange', 'Interpolasi lagrange'])\n",
    "plt.grid()\n",
    "plt.xlabel('x')\n",
    "plt.ylabel('y')"
   ]
  }
 ],
 "metadata": {
  "authors": [
   {
    "name": "Sparisoma Viridi"
   }
  ],
  "kernelspec": {
   "display_name": "Python 3 (ipykernel)",
   "language": "python",
   "name": "python3"
  },
  "language_info": {
   "codemirror_mode": {
    "name": "ipython",
    "version": 3
   },
   "file_extension": ".py",
   "mimetype": "text/x-python",
   "name": "python",
   "nbconvert_exporter": "python",
   "pygments_lexer": "ipython3",
   "version": "3.10.10"
  },
  "title": "linreg_interpolation"
 },
 "nbformat": 4,
 "nbformat_minor": 5
}
