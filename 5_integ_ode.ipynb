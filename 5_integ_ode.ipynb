{
 "cells": [
  {
   "cell_type": "markdown",
   "id": "5be8cdd2",
   "metadata": {},
   "source": [
    "# integ_ode\n",
    "+ [Numerical integration](https://www.sfu.ca/math-coursenotes/Math%20158%20Course%20Notes/sec_Numerical_Integration.html)\n",
    "+ [Ordinary differential equation](https://mathworld.wolfram.com/OrdinaryDifferentialEquation.html)\n",
    "+ [Boundary conditions](http://www.multiphysics.us/BC.html)"
   ]
  },
  {
   "cell_type": "markdown",
   "id": "ff64d804",
   "metadata": {},
   "source": [
    "## questions"
   ]
  },
  {
   "cell_type": "markdown",
   "id": "39f84922",
   "metadata": {},
   "source": [
    "### part a (in-class)\n",
    "1. Numerical integration of $\\displaystyle \\int_a^b f(x) \\ dx$ can be approximated by $\\displaystyle \\left[ \\alpha f(a) + \\beta f\\left( \\frac{a+b}{2} \\right) + \\gamma f(b) \\right] \\frac{(b-a)}{n}$. Write the relation between $\\alpha$, $\\beta$, $\\gamma$, and $n$.\n",
    "2. Replace the `?` with the right number in following table.\n",
    "Method | $\\alpha$ | $\\beta$ | $\\gamma$ | $n$\n",
    ":- | :-: | :-: | :-: | :-:\n",
    "Rectangle left point | `?` | `?` | `?` | `?`\n",
    "Rectangle mid point | `?` | `?` | `?` | `?` \n",
    "Rectangle right point | `?` | `?` | `?` | `?`\n",
    "Trapezium | `?` | `?` | `?` | `?`\n",
    "Simpson | `?` | `?` | `?` | `?`\n",
    "3. Tell the difference between initial value problem (IVP) and boundary value problem (BVP).\n",
    "4. Ilustrate the domain and boundary for a BVP using common symbols.\n",
    "5. Explain about five different boundary conditions (BCs) in solving ODE as a BVP."
   ]
  },
  {
   "cell_type": "markdown",
   "id": "c29b3174",
   "metadata": {},
   "source": [
    "### part b (take-home)\n",
    "1. For $f(x) = \\sin x$ and $0 \\le x \\le \\pi$ make code to calculate area below the curve using rectangle left point, rectangle mid point, rectangle right point, trapezium, and Simpson method for $10$ partition. Explain which method gives the best result. What is the analytical solution of the problem? Name each method with different function, e.g `rectl()`, `rectm()`, `rectr()`, `trapez()`, and `simpson()` with `xbeg`, `xend`, `partition` as parameters.\n",
    "2. Using Finite Difference Method (FDM) find plot the curve of vertical position $y$ againts time $t$ for a free fall motion if $y_0 = 10 \\ \\rm m$, $y_t = 20 \\ \\rm m$, $g = -10  \\ \\rm m/s^2$ with number of grid $n = 10, 20, 40, 80, 160$ by modifying [a code](https://pythonnumericalmethods.berkeley.edu/notebooks/chapter23.03-Finite-Difference-Method.html). Explain the form of the curve. Which $n$ gives better result?"
   ]
  },
  {
   "cell_type": "markdown",
   "id": "fe6366bb",
   "metadata": {},
   "source": [
    "## answers"
   ]
  },
  {
   "cell_type": "markdown",
   "id": "e429fc88",
   "metadata": {},
   "source": [
    "+ Put your answers of part b below this cell.\n",
    "+ Write only one answer in one Code cell.\n",
    "+ There must be **at least two Code cells**.\n",
    "+ Existence of additional Markdown cells for explanation are optional."
   ]
  },
  {
   "cell_type": "markdown",
   "id": "6162e0e7",
   "metadata": {},
   "source": [
    "**Adam Raihan Ramadhani (10219079)**"
   ]
  },
  {
   "cell_type": "markdown",
   "id": "04f22a27",
   "metadata": {},
   "source": [
    "# 1"
   ]
  },
  {
   "cell_type": "code",
   "execution_count": 1,
   "id": "c7ba5456",
   "metadata": {},
   "outputs": [
    {
     "name": "stdout",
     "output_type": "stream",
     "text": [
      "-----N-left point rule\n",
      "     1 0.0\n",
      "     2 1.5707963267948966\n",
      "     4 1.8961188979370398\n",
      "     8 1.9742316019455508\n",
      "    16 1.993570343772339\n",
      "    32 1.9983933609701447\n",
      "    64 1.9995983886400375\n",
      "   128 1.9998996001842024\n",
      "   256 1.9999749002350524\n",
      "   512 1.9999937250705757\n"
     ]
    }
   ],
   "source": [
    "import math\n",
    "\n",
    "#Fungsi yang akan diintegrasikan\n",
    "def f(x):\n",
    "    fx = math.sin(x)\n",
    "    return fx \n",
    "\n",
    "N = 1\n",
    "a = 0\n",
    "b = math.pi\n",
    "M = 11\n",
    "dx = (b - a) / N\n",
    "\n",
    "T1 = 1\n",
    "# Fungsi integrasi dengan metode Rectangle Left Point\n",
    "\n",
    "def rectangle_left_point(f, a, b, N):\n",
    "    dx = (b - a) / N\n",
    "    x = [a + i*dx for i in range(T1)]\n",
    "    A = 0\n",
    "    for xi in x:\n",
    "        Ai = f(xi) * dx\n",
    "        A += Ai\n",
    "    return A\n",
    "\n",
    "print(\"-----N-left point rule\")\n",
    "for j in range(1, M):\n",
    "    A = rectangle_left_point(f, a, b, T1)\n",
    "    print(f\"{T1:6d}\", A)\n",
    "    T1 *= 2"
   ]
  },
  {
   "cell_type": "code",
   "execution_count": 3,
   "id": "2ce66b31",
   "metadata": {},
   "outputs": [
    {
     "name": "stdout",
     "output_type": "stream",
     "text": [
      "-----N-right point rule\n",
      "     1 3.8473413874435795e-16\n",
      "     2 1.5707963267948968\n",
      "     4 1.8961188979370398\n",
      "     8 1.9742316019455508\n",
      "    16 1.9935703437723389\n",
      "    32 1.9983933609701445\n",
      "    64 1.9995983886400377\n",
      "   128 1.9998996001842024\n",
      "   256 1.9999749002350524\n",
      "   512 1.9999937250705757\n"
     ]
    }
   ],
   "source": [
    "T2 = 1\n",
    "# Fungsi integrasi dengan metode Rectangle Right Point\n",
    "\n",
    "def rectangle_right_point(f, a, b, N):\n",
    "    dx = (b - a) / N\n",
    "    x = [a + i*dx for i in range(T2)]\n",
    "    B = 0\n",
    "    for xi in x:\n",
    "        Bi = f(xi + dx) * dx\n",
    "        B += Bi\n",
    "    return B\n",
    "\n",
    "print(\"-----N-right point rule\")\n",
    "for j in range(1, M):\n",
    "    B = rectangle_right_point(f, a, b, T2)\n",
    "    print(f\"{T2:6d}\", B)\n",
    "    T2 *= 2"
   ]
  },
  {
   "cell_type": "code",
   "execution_count": 4,
   "id": "fa819e6e",
   "metadata": {},
   "outputs": [
    {
     "name": "stdout",
     "output_type": "stream",
     "text": [
      "-----N-mid point rule\n",
      "     1 3.141592653589793\n",
      "     2 2.221441469079183\n",
      "     4 2.052344305954062\n",
      "     8 2.012909085599128\n",
      "    16 2.00321637816795\n",
      "    32 2.000803416309931\n",
      "    64 2.0002008117283676\n",
      "   128 2.0000502002859033\n",
      "   256 2.0000125499060992\n",
      "   512 2.0000031374661886\n"
     ]
    }
   ],
   "source": [
    "T3 = 1\n",
    "# Fungsi integrasi dengan metode Rectangle Mid Point\n",
    "\n",
    "def rectangle_mid_point(f, a, b, N):\n",
    "    dx = (b - a) / N\n",
    "    x = [a + i*dx for i in range(N)]\n",
    "    C = 0\n",
    "    for xi in x:\n",
    "        Ci = f(xi + 0.5*dx) * dx\n",
    "        C += Ci\n",
    "    return C\n",
    "\n",
    "print(\"-----N-mid point rule\")\n",
    "for j in range(1, M):\n",
    "    C = rectangle_mid_point(f, a, b, T3)\n",
    "    print(f\"{T3:6d}\", C)\n",
    "    T3 *= 2"
   ]
  },
  {
   "cell_type": "code",
   "execution_count": 5,
   "id": "c41b0935",
   "metadata": {},
   "outputs": [
    {
     "name": "stdout",
     "output_type": "stream",
     "text": [
      "-----N-Trapezium rule\n",
      "     1 1.9236706937217898e-16\n",
      "     2 1.5707963267948968\n",
      "     4 1.8961188979370398\n",
      "     8 1.974231601945551\n",
      "    16 1.993570343772339\n",
      "    32 1.9983933609701445\n",
      "    64 1.9995983886400375\n",
      "   128 1.9998996001842029\n",
      "   256 1.999974900235053\n",
      "   512 1.9999937250705757\n"
     ]
    }
   ],
   "source": [
    "T4=1\n",
    "# Fungsi integrasi dengan metode Trapezium\n",
    "\n",
    "def trapezium(f, a, b, N):\n",
    "    dx = (b - a) / N\n",
    "    x = [a + i*dx for i in range(N)]\n",
    "    D = 0\n",
    "    for xi in x:\n",
    "        Di = (f(xi) + f(xi + dx)) * (dx / 2)\n",
    "        D += Di\n",
    "    return D\n",
    "\n",
    "print(\"-----N-Trapezium rule\")\n",
    "for j in range(1, M):\n",
    "    D = trapezium(f, a, b, T4)\n",
    "    print(f\"{T4:6d}\", D)\n",
    "    T4 *= 2"
   ]
  },
  {
   "cell_type": "code",
   "execution_count": 6,
   "id": "1cd0cc06",
   "metadata": {},
   "outputs": [
    {
     "name": "stdout",
     "output_type": "stream",
     "text": [
      "-----N-Simpson\n",
      "     1 2.0943951023931953\n",
      "     2 2.0045597549844207\n",
      "     4 2.0002691699483877\n",
      "     8 2.0000165910479355\n",
      "    16 2.0000010333694127\n",
      "    32 2.000000064530002\n",
      "    64 2.000000004032257\n",
      "   128 2.0000000002520024\n",
      "   256 2.0000000000157487\n",
      "   512 2.0000000000009845\n"
     ]
    }
   ],
   "source": [
    "T5=1\n",
    "# Fungsi integrasi dengan metode Simpson\n",
    "\n",
    "def simpson(f, a, b, N):\n",
    "    dx = (b - a) / N\n",
    "    x = [a + i*dx for i in range(N)]\n",
    "    E = 0\n",
    "    for xi in x:\n",
    "        Ei = (f(xi) + 4*f(xi + 0.5*dx) + f(xi + dx)) * (dx / 6)\n",
    "        E += Ei\n",
    "    return E\n",
    "\n",
    "print(\"-----N-Simpson\")\n",
    "for j in range(1, M):\n",
    "    E = simpson(f, a, b, T5)\n",
    "    print(f\"{T5:6d}\", E)\n",
    "    T5 *= 2"
   ]
  },
  {
   "cell_type": "markdown",
   "id": "50a60662",
   "metadata": {},
   "source": [
    "# 2"
   ]
  },
  {
   "cell_type": "code",
   "execution_count": 7,
   "id": "f4b9cb3d",
   "metadata": {},
   "outputs": [
    {
     "name": "stdout",
     "output_type": "stream",
     "text": [
      "[[ 1.  0.  0.  0.  0.  0.  0.  0.  0.  0.  0.]\n",
      " [ 1. -2.  1.  0.  0.  0.  0.  0.  0.  0.  0.]\n",
      " [ 0.  1. -2.  1.  0.  0.  0.  0.  0.  0.  0.]\n",
      " [ 0.  0.  1. -2.  1.  0.  0.  0.  0.  0.  0.]\n",
      " [ 0.  0.  0.  1. -2.  1.  0.  0.  0.  0.  0.]\n",
      " [ 0.  0.  0.  0.  1. -2.  1.  0.  0.  0.  0.]\n",
      " [ 0.  0.  0.  0.  0.  1. -2.  1.  0.  0.  0.]\n",
      " [ 0.  0.  0.  0.  0.  0.  1. -2.  1.  0.  0.]\n",
      " [ 0.  0.  0.  0.  0.  0.  0.  1. -2.  1.  0.]\n",
      " [ 0.  0.  0.  0.  0.  0.  0.  0.  1. -2.  1.]\n",
      " [ 0.  0.  0.  0.  0.  0.  0.  0.  0.  0.  1.]]\n",
      "[10.  -2.5 -2.5 -2.5 -2.5 -2.5 -2.5 -2.5 -2.5 -2.5 20. ]\n"
     ]
    },
    {
     "data": {
      "image/png": "[encoded data removed]",
      "text/plain": [
       "<Figure size 1000x800 with 1 Axes>"
      ]
     },
     "metadata": {},
     "output_type": "display_data"
    }
   ],
   "source": [
    "import numpy as np\n",
    "import matplotlib.pyplot as plt\n",
    "%matplotlib inline\n",
    "\n",
    "n = 10\n",
    "h = (5-0)/n\n",
    "\n",
    "# Get A\n",
    "A = np.zeros((n+1, n+1))\n",
    "A[0, 0] = 1\n",
    "A[n, n] = 1\n",
    "for i in range(1, n):\n",
    "    A[i, i-1] = 1\n",
    "    A[i, i] = -2\n",
    "    A[i, i+1] = 1\n",
    "\n",
    "print(A)\n",
    "\n",
    "# Get b\n",
    "b = np.zeros(n+1)\n",
    "b[1:-1] = -10*h**2\n",
    "b[0] = 10\n",
    "b[-1] = 20\n",
    "print(b)\n",
    "\n",
    "# solve the linear equations\n",
    "y = np.linalg.solve(A, b)\n",
    "\n",
    "t = np.linspace(0, 5, 11)\n",
    "\n",
    "plt.figure(figsize=(10,8))\n",
    "plt.plot(t, y)\n",
    "plt.xlabel('time (s)')\n",
    "plt.ylabel('altitude (m)')\n",
    "plt.show()"
   ]
  },
  {
   "cell_type": "code",
   "execution_count": 8,
   "id": "77011bde",
   "metadata": {},
   "outputs": [
    {
     "data": {
      "image/png": "[encoded data removed]",
      "text/plain": [
       "<Figure size 1000x800 with 1 Axes>"
      ]
     },
     "metadata": {},
     "output_type": "display_data"
    }
   ],
   "source": [
    "y_n1 = -10*h**2 + 2*y[0] - y[1]\n",
    "(y[1] - y_n1) / (2*h)\n",
    "\n",
    "def get_a_b(n):\n",
    "    h = (np.pi/2-0) / n\n",
    "    x = np.linspace(0, np.pi/2, n+1)\n",
    "    # Get A\n",
    "    A = np.zeros((n+1, n+1))\n",
    "    A[0, 0] = 1\n",
    "    A[n, n] = -2+4*h**2\n",
    "    A[n, n-1] = 2\n",
    "    for i in range(1, n):\n",
    "        A[i, i-1] = 1\n",
    "        A[i, i] = -2+4*h**2\n",
    "        A[i, i+1] = 1\n",
    "\n",
    "    # Get b\n",
    "    b = np.zeros(n+1)\n",
    "    for i in range(1, n+1):\n",
    "        b[i] = 4*h**2*x[i]\n",
    "    \n",
    "    return x, A, b\n",
    "\n",
    "x = np.pi/2\n",
    "v = x - np.sin(2*x)\n",
    "\n",
    "n_s = []\n",
    "errors = []\n",
    "\n",
    "for n in range(3, 100, 5):\n",
    "    x, A, b = get_a_b(n)\n",
    "    y = np.linalg.solve(A, b)\n",
    "    n_s.append(n)\n",
    "    e = v - y[-1]\n",
    "    errors.append(e)\n",
    "    \n",
    "plt.figure(figsize = (10,8))\n",
    "plt.plot(n_s, errors)\n",
    "plt.yscale('log')\n",
    "plt.xlabel('n grid points')\n",
    "plt.ylabel('errors at x = $\\pi/2$')\n",
    "plt.show()"
   ]
  }
 ],
 "metadata": {
  "authors": [
   {
    "name": "Sparisoma Viridi"
   }
  ],
  "kernelspec": {
   "display_name": "Python 3 (ipykernel)",
   "language": "python",
   "name": "python3"
  },
  "language_info": {
   "codemirror_mode": {
    "name": "ipython",
    "version": 3
   },
   "file_extension": ".py",
   "mimetype": "text/x-python",
   "name": "python",
   "nbconvert_exporter": "python",
   "pygments_lexer": "ipython3",
   "version": "3.10.10"
  },
  "title": "integ_ode"
 },
 "nbformat": 4,
 "nbformat_minor": 5
}
