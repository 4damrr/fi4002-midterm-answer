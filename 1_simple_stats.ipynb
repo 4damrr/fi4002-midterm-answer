{
 "cells": [
  {
   "cell_type": "markdown",
   "id": "cc3fb8e3",
   "metadata": {},
   "source": [
    "# simple_stats\n",
    "+ [Simple Statistical Analysis](https://www.skillsyouneed.com/num/simple-statistical-analysis.html)\n",
    "+ [Mean Median Mode: What They Are, How to Find Them](https://www.statisticshowto.com/probability-and-statistics/statistics-definitions/mean-median-mode/)\n",
    "+ [Standard Deviation: Definition, Examples](https://www.statisticshowto.com/probability-and-statistics/standard-deviation/)"
   ]
  },
  {
   "cell_type": "markdown",
   "id": "26d927bc",
   "metadata": {},
   "source": [
    "## data\n",
    "$$\n",
    "X = \\{ 4, 7, 5, 1, 3, 6, 4, 8, 5, 7, 2, 5, 6, 3, 9, 6, 8, 5, 7, 4 \\} \n",
    "$$"
   ]
  },
  {
   "cell_type": "markdown",
   "id": "415e3b55",
   "metadata": {},
   "source": [
    "## questions"
   ]
  },
  {
   "cell_type": "markdown",
   "id": "677abe4a",
   "metadata": {},
   "source": [
    "### part a (in-class)\n",
    "1. Write equations to obtain $x$ from $X$ and number $N$ of $x$.\n",
    "2. Write equations to obtain mean $x_{\\rm mean}$, median $x_{\\rm med}$, and mode $x_{\\rm mod}$ of $x$.\n",
    "3. Write equation to obtain maximum $x_{\\rm max}$, minimum $x_{\\rm min}$, and range $x_{\\rm range}$ of $x$.\n",
    "4. Write equations to obtain variance $x_{\\rm var}$ and standard deviation $x_{\\rm sdev}$ of $x$."
   ]
  },
  {
   "cell_type": "markdown",
   "id": "bed0790a",
   "metadata": {},
   "source": [
    "### part b (take-home)\n",
    "1. Write codes to obtain `x` from `X` and number `N` of `x`.\n",
    "2. Write codes to obtain mean `x_mean`, median `x_med`, and mode `x_mod` of `x`.\n",
    "3. Write codes to obtain maximum `x_max`, minimum `x_min`, and range `x_range` of `x`.\n",
    "4. Write codes to obtain variance `x_var` and standard deviation `x_sdev` of `x`."
   ]
  },
  {
   "cell_type": "markdown",
   "id": "1e3e03af",
   "metadata": {},
   "source": [
    "## answers"
   ]
  },
  {
   "cell_type": "markdown",
   "id": "7b4d1b39",
   "metadata": {},
   "source": [
    "+ Put your answers of part b below this cell.\n",
    "+ Write only one answer in one Code cell.\n",
    "+ There must be **at least four Code cells**.\n",
    "+ Existence of additional Markdown cells for explanation are optional."
   ]
  },
  {
   "cell_type": "markdown",
   "id": "d0b4e68a",
   "metadata": {},
   "source": [
    "**Adam Raihan Ramadhani (10219079)**"
   ]
  },
  {
   "cell_type": "markdown",
   "id": "70dbcded",
   "metadata": {},
   "source": [
    "# 1"
   ]
  },
  {
   "cell_type": "code",
   "execution_count": 4,
   "id": "38dc944f",
   "metadata": {
    "scrolled": true
   },
   "outputs": [
    {
     "name": "stdout",
     "output_type": "stream",
     "text": [
      "Data X ke berapa yang ingin dilihat? (masukkan angka < 20 )\n",
      "Data ke-\n",
      "25\n",
      "data tidak ada\n",
      "jumlah angka yang terdapat pada data ini: 20\n"
     ]
    }
   ],
   "source": [
    "import math\n",
    "from statistics import mode\n",
    "\n",
    "X = [4,7,5,1,3,6,4,8,5,7,2,5,6,3,9,6,8,5,7,4]\n",
    "\n",
    "print('Data X ke berapa yang ingin dilihat? (masukkan angka <',len(X),')')\n",
    "print('Data ke-')\n",
    "x = int(input())\n",
    "if 0<=x<=len(X):\n",
    "    print('data ke-',x,'adalah',X[x-1])\n",
    "else:\n",
    "    print('data tidak ada')\n",
    "print('jumlah angka yang terdapat pada data ini:', len(X))"
   ]
  },
  {
   "cell_type": "markdown",
   "id": "57fa9cfb",
   "metadata": {},
   "source": [
    "# 2"
   ]
  },
  {
   "cell_type": "code",
   "execution_count": 5,
   "id": "97f86c85",
   "metadata": {},
   "outputs": [
    {
     "name": "stdout",
     "output_type": "stream",
     "text": [
      "[1, 2, 3, 3, 4, 4, 4, 5, 5, 5, 5, 6, 6, 6, 7, 7, 7, 8, 8, 9]\n",
      "Mean dari data X adalah 5.25\n",
      "Median dari data X adalah 5.0\n",
      "Modus dari data X adalah 5\n"
     ]
    }
   ],
   "source": [
    "X_sorted = (sorted(X))\n",
    "print(X_sorted)\n",
    "\n",
    "#find mean\n",
    "X_mean = sum(X)/len(X)\n",
    "\n",
    "#find median\n",
    "if len(X)%2==1:\n",
    "    X_median = X_sorted[len(X)/2]\n",
    "else:\n",
    "    X_median = (X_sorted[int(len(X)/2)]+X_sorted[int(len(X)/2-1)])/2\n",
    "\n",
    "#find mode\n",
    "X_mode = mode(X)\n",
    "\n",
    "print('Mean dari data X adalah', X_mean)\n",
    "print('Median dari data X adalah', X_median)\n",
    "print('Modus dari data X adalah', X_mode)"
   ]
  },
  {
   "cell_type": "markdown",
   "id": "4de4a573",
   "metadata": {},
   "source": [
    "# 3"
   ]
  },
  {
   "cell_type": "code",
   "execution_count": 6,
   "id": "4d44c4a2",
   "metadata": {},
   "outputs": [
    {
     "name": "stdout",
     "output_type": "stream",
     "text": [
      "Nilai maksimum dari data X adalah 9\n",
      "Nilai minimum dari data X adalah 1\n",
      "Range dari data X adalah 8\n"
     ]
    }
   ],
   "source": [
    "X_min = X_sorted[0]\n",
    "X_max = X_sorted[-1]\n",
    "X_range = X_max-X_min\n",
    "\n",
    "print('Nilai maksimum dari data X adalah', X_max)\n",
    "print('Nilai minimum dari data X adalah', X_min)\n",
    "print('Range dari data X adalah', X_range)"
   ]
  },
  {
   "cell_type": "markdown",
   "id": "115ae263",
   "metadata": {},
   "source": [
    "# 4"
   ]
  },
  {
   "cell_type": "code",
   "execution_count": 7,
   "id": "ae5caacb",
   "metadata": {},
   "outputs": [
    {
     "name": "stdout",
     "output_type": "stream",
     "text": [
      "Variansi dari X adalah 4.407894736842105\n",
      "Standar deviasi dari X adalah 2.0994986870303363\n"
     ]
    }
   ],
   "source": [
    "y_sum=0\n",
    "for x in X:\n",
    "    y = (x-X_mean)**2\n",
    "    y_sum = y_sum+y\n",
    "\n",
    "X_variance = (y_sum/(len(X)-1))\n",
    "X_stdev = X_variance**(1/2)\n",
    "\n",
    "print('Variansi dari X adalah', X_variance)\n",
    "print('Standar deviasi dari X adalah', X_stdev)"
   ]
  }
 ],
 "metadata": {
  "authors": [
   {
    "name": "Sparisoma Viridi"
   }
  ],
  "kernelspec": {
   "display_name": "Python 3 (ipykernel)",
   "language": "python",
   "name": "python3"
  },
  "language_info": {
   "codemirror_mode": {
    "name": "ipython",
    "version": 3
   },
   "file_extension": ".py",
   "mimetype": "text/x-python",
   "name": "python",
   "nbconvert_exporter": "python",
   "pygments_lexer": "ipython3",
   "version": "3.10.10"
  },
  "title": "simple_stats"
 },
 "nbformat": 4,
 "nbformat_minor": 5
}
